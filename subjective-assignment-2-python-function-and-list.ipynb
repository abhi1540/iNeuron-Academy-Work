{
 "cells": [
  {
   "cell_type": "markdown",
   "metadata": {},
   "source": [
    "# Assignments"
   ]
  },
  {
   "cell_type": "markdown",
   "metadata": {},
   "source": [
    "Q1. Write the Python function to get a string made of 4 copies of the last\n",
    "two characters of the specified string (length must be at least 2).\n",
    "\n",
    "    Sample function and result :\n",
    "    insert-end ('Python') -> abababab\n",
    "    insert-end('Exercises') -> jkjkjkjk"
   ]
  },
  {
   "cell_type": "code",
   "execution_count": 1,
   "metadata": {},
   "outputs": [
    {
     "data": {
      "text/plain": [
       "'onononon'"
      ]
     },
     "execution_count": 1,
     "metadata": {},
     "output_type": "execute_result"
    }
   ],
   "source": [
    "def func(arg):\n",
    "    if len(arg) >= 2:\n",
    "        return arg[-2:]*4\n",
    "\n",
    "func('python')"
   ]
  },
  {
   "cell_type": "markdown",
   "metadata": {},
   "source": [
    "Q2. Write the python function to get a string made of its first three\n",
    "characters of a specified string. If the length of the string is less than 3\n",
    "then return the original string.\n",
    "    \n",
    "    Sample function and result :\n",
    "    first-three('ipy') -> ipy\n",
    "    first-three('python') -> pyt"
   ]
  },
  {
   "cell_type": "code",
   "execution_count": 2,
   "metadata": {},
   "outputs": [
    {
     "name": "stdout",
     "output_type": "stream",
     "text": [
      "pyt\n",
      "py\n"
     ]
    }
   ],
   "source": [
    "def func(arg):\n",
    "    \n",
    "    if len(arg) <=3:\n",
    "        return arg\n",
    "    else:\n",
    "        return arg[:3]\n",
    "    \n",
    "print(func('python'))\n",
    "print(func('py'))"
   ]
  },
  {
   "cell_type": "markdown",
   "metadata": {},
   "source": [
    "Q3. Write the Python program to find smallest window that contains all\n",
    "characters of the given string?\n",
    "\n",
    "    Original Strings:\n",
    "    asdaewsqgtwwsa\n",
    "    Smallest window that contains all characters of the said string:\n",
    "    Daewsqgt"
   ]
  },
  {
   "cell_type": "code",
   "execution_count": 3,
   "metadata": {},
   "outputs": [
    {
     "data": {
      "text/plain": [
       "'daewsqgt'"
      ]
     },
     "execution_count": 3,
     "metadata": {},
     "output_type": "execute_result"
    }
   ],
   "source": [
    "\n",
    "str1 = \"asdaewsqgtwwsa\"\n",
    "str2 = \"daewsqgt\"\n",
    "dict1 = {}\n",
    "for i in str2:\n",
    "    if i not in dict1:\n",
    "        dict1[i] = 1\n",
    "    else:\n",
    "        pass\n",
    "    \n",
    "dict2 = {}\n",
    "for i in str1:\n",
    "    if i in dict1 and i not in dict2:\n",
    "        dict2[i] = 1\n",
    "    elif i in dict2 and i not in dict1:\n",
    "        dict2[i] = 0\n",
    "    elif i not in dict1:\n",
    "        dict2[i] = 0      \n",
    "\n",
    "def func(str1,dict1, dict2):\n",
    "    \n",
    "    left,right,i,j = 0,0,0,0\n",
    "    missing_count = len(dict1)\n",
    "    while right < len(str1):\n",
    "        if dict2[str1[right]] > 0:\n",
    "            missing_count -= 1\n",
    "            dict2[str1[right]] -= 1\n",
    "        elif str1[right] in dict1:\n",
    "            dict2[str1[right]] += 1\n",
    "        right += 1\n",
    "        \n",
    "        while missing_count == 0:\n",
    "            if left == 0 or right - left < i - j: \n",
    "                i,j = right, left\n",
    "            if str1[left] in dict1 and dict2[str1[left]] == 0:\n",
    "                dict2[str1[left]] += 1\n",
    "                missing_count += 1\n",
    "            left += 1\n",
    "    return str1[j:i]\n",
    "            \n",
    "\n",
    "func(str1, dict1, dict2)"
   ]
  },
  {
   "cell_type": "markdown",
   "metadata": {},
   "source": [
    "Q4. Write the Python program to count number of substrings from a\n",
    "given string of lowercase alphabets with exactly k distinct (given)\n",
    "characters?\n",
    "\n",
    "    Input a string (lowercase alphabets): wolf\n",
    "    Input k: 4\n",
    "    Number of substrings with exactly 4 distinct characters: 1"
   ]
  },
  {
   "cell_type": "code",
   "execution_count": 4,
   "metadata": {},
   "outputs": [
    {
     "data": {
      "text/plain": [
       "1"
      ]
     },
     "execution_count": 4,
     "metadata": {},
     "output_type": "execute_result"
    }
   ],
   "source": [
    "list1 = []\n",
    "str1 = \"wolf\"\n",
    "\n",
    "\n",
    "def func(list1, str1, k):\n",
    "    \n",
    "    right, left = 0, 0\n",
    "    str1 = str1 + \" \"\n",
    "    dict1 = {}\n",
    "    while right < len(str1):\n",
    "\n",
    "        if str1[right] in dict1 or len(dict1) == k:\n",
    "            list1.append(str1[left:right])\n",
    "            dict1 = {}\n",
    "            left += 1\n",
    "            right -= 1\n",
    "\n",
    "        else:\n",
    "            dict1[str1[right]] = 1\n",
    "            right += 1\n",
    "    return len(list1)\n",
    "\n",
    "func(list1, str1, 4)"
   ]
  },
  {
   "cell_type": "markdown",
   "metadata": {},
   "source": [
    "Q5. Write the Python program to count number of non-empty\n",
    "substrings of the given string?\n",
    "\n",
    "    Input a string: w3resource\n",
    "    Number of substrings:\n",
    "    55"
   ]
  },
  {
   "cell_type": "code",
   "execution_count": 5,
   "metadata": {},
   "outputs": [
    {
     "data": {
      "text/plain": [
       "55.0"
      ]
     },
     "execution_count": 5,
     "metadata": {},
     "output_type": "execute_result"
    }
   ],
   "source": [
    "str1 = 'w3resource'\n",
    "\n",
    "def func(arg):\n",
    "    \n",
    "    \"\"\"Numbers of non-empty substrings is n*(n+1)/2\"\"\"\n",
    "    return (len(arg)*(len(arg)+1)) / 2\n",
    "\n",
    "            \n",
    "func(str1)"
   ]
  },
  {
   "cell_type": "markdown",
   "metadata": {},
   "source": [
    "Q6. Write the Python program to count the number of strings where the\n",
    "string length is 2 or more, and first and last character are same\n",
    "from a given list of strings.\n",
    "\n",
    "    Sample List : ['abc', 'xyz', 'wxw', '1331']\n",
    "    Expected Result: 2"
   ]
  },
  {
   "cell_type": "code",
   "execution_count": 6,
   "metadata": {},
   "outputs": [
    {
     "data": {
      "text/plain": [
       "2"
      ]
     },
     "execution_count": 6,
     "metadata": {},
     "output_type": "execute_result"
    }
   ],
   "source": [
    "list1 = ['abc', 'xyz', 'wxw', '1331']\n",
    "\n",
    "def func(arg):\n",
    "    \n",
    "    count = 0\n",
    "    for i in list1:\n",
    "        if len(i) >= 2 and i[0] == i[-1]:\n",
    "            count += 1\n",
    "            \n",
    "    return count\n",
    "            \n",
    "func(list1)"
   ]
  },
  {
   "cell_type": "markdown",
   "metadata": {},
   "source": [
    "Q7. Write the Python program to get a list, sorted in increasing order by\n",
    "the last element in each tuple from the given list of non-empty\n",
    "tuples?\n",
    "\n",
    "    Sample List - [ (2, 5), (1, 2), (4, 4), (2, 3), (2, 1) ]\n",
    "    Expected Result - [ (2, 1), (1, 2), (2, 3), (4, 4), (2, 5) ]"
   ]
  },
  {
   "cell_type": "code",
   "execution_count": 7,
   "metadata": {},
   "outputs": [
    {
     "data": {
      "text/plain": [
       "[(2, 1), (1, 2), (2, 3), (4, 4), (2, 5)]"
      ]
     },
     "execution_count": 7,
     "metadata": {},
     "output_type": "execute_result"
    }
   ],
   "source": [
    "list1 = [ (2, 5), (1, 2), (4, 4), (2, 3), (2, 1) ]\n",
    "\n",
    "def func(arg):\n",
    "    \n",
    "    return sorted(arg, key= lambda x: x[1])\n",
    "\n",
    "func(list1)    "
   ]
  },
  {
   "cell_type": "markdown",
   "metadata": {},
   "source": [
    "Q8. Write the Python program to remove duplicates from a list?"
   ]
  },
  {
   "cell_type": "code",
   "execution_count": 8,
   "metadata": {},
   "outputs": [
    {
     "data": {
      "text/plain": [
       "[1, 2, 3, 5, 6, 7]"
      ]
     },
     "execution_count": 8,
     "metadata": {},
     "output_type": "execute_result"
    }
   ],
   "source": [
    "list1 = [1, 2, 3, 3, 7, 3, 5, 6]\n",
    "\n",
    "\n",
    "def func(arg):\n",
    "    \n",
    "    return list(set(arg))\n",
    "\n",
    "\n",
    "func(list1)"
   ]
  },
  {
   "cell_type": "markdown",
   "metadata": {},
   "source": [
    "Q9. Write the Python program to find the list of words that are longer\n",
    "than n from a given list of words?"
   ]
  },
  {
   "cell_type": "code",
   "execution_count": 9,
   "metadata": {},
   "outputs": [
    {
     "data": {
      "text/plain": [
       "['hello', 'hey']"
      ]
     },
     "execution_count": 9,
     "metadata": {},
     "output_type": "execute_result"
    }
   ],
   "source": [
    "list1 = [\"hello\", \"hi\", \"hey\"]\n",
    "\n",
    "def func(arg, k):\n",
    "    \n",
    "    list2 = []\n",
    "    for i in arg:\n",
    "        if len(i) > k:\n",
    "            list2.append(i)\n",
    "            \n",
    "    return list2\n",
    "\n",
    "func(list1,2)\n",
    "\n"
   ]
  },
  {
   "cell_type": "markdown",
   "metadata": {},
   "source": [
    "Q10. Write the Python program to print a specified list after removing the\n",
    "0th, 4th, and 5th elements?\n",
    "    \n",
    "    Sample List - ['Red', 'Green', 'White', 'Black', 'Pink', 'Yellow']\n",
    "    Expected Output - ['Green', 'White', 'Black']"
   ]
  },
  {
   "cell_type": "code",
   "execution_count": 10,
   "metadata": {},
   "outputs": [
    {
     "data": {
      "text/plain": [
       "['Green', 'White', 'Black']"
      ]
     },
     "execution_count": 10,
     "metadata": {},
     "output_type": "execute_result"
    }
   ],
   "source": [
    "list1 = ['Red', 'Green', 'White', 'Black', 'Pink', 'Yellow']\n",
    "\n",
    "def func(arg):\n",
    "    \n",
    "    list2 = []\n",
    "    for i in range(len(arg)):\n",
    "        if i not in (0,4,5):\n",
    "            list2.append(arg[i])\n",
    "            \n",
    "    return list2\n",
    "\n",
    "func(list1)"
   ]
  },
  {
   "cell_type": "markdown",
   "metadata": {},
   "source": [
    "Q11. Write the Python program to generate all permutations of a list in\n",
    "Python?"
   ]
  },
  {
   "cell_type": "code",
   "execution_count": 11,
   "metadata": {},
   "outputs": [
    {
     "data": {
      "text/plain": [
       "[(1, 2, 3), (1, 3, 2), (2, 1, 3), (2, 3, 1), (3, 1, 2), (3, 2, 1)]"
      ]
     },
     "execution_count": 11,
     "metadata": {},
     "output_type": "execute_result"
    }
   ],
   "source": [
    "from itertools import permutations \n",
    "list1 = [1, 2, 3]\n",
    "def func(arg):\n",
    "    \n",
    "    return list(permutations(list1)) \n",
    "\n",
    "\n",
    "func(list1)"
   ]
  },
  {
   "cell_type": "markdown",
   "metadata": {},
   "source": [
    "Q12. Write the Python program to convert a pair of values into a sorted\n",
    "unique array?\n",
    " \n",
    "    Original List- [ (1, 2), (3, 4), (1, 2), (5, 6), (7, 8), (1, 2), (3, 4), (3, 4), (7, 8), (9, 10) ]\n",
    "    Sorted Unique Data- [ 1, 2, 3, 4, 5, 6, 7, 8, 9, 10 ] \n"
   ]
  },
  {
   "cell_type": "code",
   "execution_count": 12,
   "metadata": {},
   "outputs": [
    {
     "data": {
      "text/plain": [
       "[1, 2, 3, 4, 5, 6, 7, 8, 9, 10]"
      ]
     },
     "execution_count": 12,
     "metadata": {},
     "output_type": "execute_result"
    }
   ],
   "source": [
    "from itertools import chain\n",
    "list1 = [(1, 2), (3, 4), (1, 2), (5, 6), (7, 8), (1, 2), (3, 4), (3, 4),\n",
    " (7, 8), (9, 10)]\n",
    "\n",
    "def func(arg):\n",
    "    \n",
    "    return list(set(chain(*arg)))\n",
    "\n",
    "func(list1)"
   ]
  },
  {
   "cell_type": "markdown",
   "metadata": {},
   "source": [
    "## Great job!"
   ]
  }
 ],
 "metadata": {
  "kernelspec": {
   "display_name": "Python 3",
   "language": "python",
   "name": "python3"
  },
  "language_info": {
   "codemirror_mode": {
    "name": "ipython",
    "version": 3
   },
   "file_extension": ".py",
   "mimetype": "text/x-python",
   "name": "python",
   "nbconvert_exporter": "python",
   "pygments_lexer": "ipython3",
   "version": "3.6.6"
  }
 },
 "nbformat": 4,
 "nbformat_minor": 1
}
