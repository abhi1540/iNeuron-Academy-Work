{
 "cells": [
  {
   "cell_type": "markdown",
   "metadata": {},
   "source": [
    "# Assignment"
   ]
  },
  {
   "cell_type": "markdown",
   "metadata": {},
   "source": [
    "Q1. Write the Python class to convert an integer to a roman numeral?"
   ]
  },
  {
   "cell_type": "code",
   "execution_count": 1,
   "metadata": {},
   "outputs": [
    {
     "data": {
      "text/plain": [
       "'MMMDCXLIX'"
      ]
     },
     "execution_count": 1,
     "metadata": {},
     "output_type": "execute_result"
    }
   ],
   "source": [
    "class example(object):\n",
    "    \n",
    "    \n",
    "    def dict1(self, r): \n",
    "        if r == 1: \n",
    "            return 'I'\n",
    "        if r == 5: \n",
    "            return 'V'\n",
    "        if r == 10: \n",
    "            return 'X'\n",
    "        if r == 50: \n",
    "            return 'L'\n",
    "        if r == 100: \n",
    "            return 'C'\n",
    "        if r == 500: \n",
    "            return 'D'\n",
    "        if r == 1000: \n",
    "            return 'M'\n",
    "        \n",
    "        \n",
    "    def func(self, num):\n",
    "        \n",
    "        \"\"\"if main significant digit <= 3\n",
    "           romanNumeral[div] * mainSignificantDigit\n",
    "           if main significant digit == 4\n",
    "           romanNumeral[div] + romanNumeral[div * 5]\n",
    "           if 5 <= main significant digit <= 8\n",
    "           romanNumeral[div * 5] + (romanNumeral[div] * ( mainSignificantDigit-5))\n",
    "           if main significant digit == 9\n",
    "           romanNumeral[div] + romanNumeral[div*10]\"\"\"\n",
    "        start = 1000\n",
    "        str1 = \"\"\n",
    "        while num:\n",
    "            \n",
    "            \n",
    "            sig_dig = num // start\n",
    "            num = num % start\n",
    "\n",
    "            if sig_dig <= 3:\n",
    "                str1 += self.dict1(start) * sig_dig\n",
    "            elif sig_dig == 4:\n",
    "                str1 += self.dict1(start) + self.dict1(start * 5)\n",
    "            elif sig_dig >= 5 and sig_dig <= 8:\n",
    "                str1 += self.dict1(start * 5) + (self.dict1(start) * (sig_dig - 5))\n",
    "            elif sig_dig == 9:\n",
    "                str1 += self.dict1(start) + self.dict1(start * 10)\n",
    "            start //= 10\n",
    "            \n",
    "        return str1\n",
    "            \n",
    "e = example()\n",
    "e.func(3649)"
   ]
  },
  {
   "cell_type": "markdown",
   "metadata": {},
   "source": [
    "Q2 Write the Python class to convert a Roman numeral to an integer?\n"
   ]
  },
  {
   "cell_type": "code",
   "execution_count": 2,
   "metadata": {},
   "outputs": [
    {
     "name": "stdout",
     "output_type": "stream",
     "text": [
      "1904\n",
      "9\n"
     ]
    }
   ],
   "source": [
    "class example(object):\n",
    "    \n",
    "    \n",
    "    def dict1(self, r): \n",
    "        if r == 'I': \n",
    "            return 1\n",
    "        if r == 'V': \n",
    "            return 5\n",
    "        if r == 'X': \n",
    "            return 10\n",
    "        if r == 'L': \n",
    "            return 50\n",
    "        if r == 'C': \n",
    "            return 100\n",
    "        if r == 'D': \n",
    "            return 500\n",
    "        if r == 'M': \n",
    "            return 1000\n",
    "        return -1\n",
    "\n",
    "    \n",
    "    \n",
    "    def func(self, arg):\n",
    "        \n",
    "        \"\"\"if current value of symbol is greater than or equal to the value of next symbol, then add this value to the running total.\n",
    "        else subtract this value by adding the value of next symbol to the running total.\"\"\"\n",
    "            \n",
    "            \n",
    "        \n",
    "        sum1 = 0\n",
    "        right = 0\n",
    "        \n",
    "        while right < len(arg)-1:\n",
    "            \n",
    "            if self.dict1(arg[right]) >= self.dict1(arg[right + 1]):\n",
    "                sum1 += self.dict1(arg[right])\n",
    "                right += 1\n",
    "            else:\n",
    "                sum1 += (self.dict1(arg[right+1]) - self.dict1(arg[right]))\n",
    "                right += 2\n",
    "                         \n",
    "        return sum1\n",
    "                        \n",
    "                        \n",
    "\n",
    "e = example()\n",
    "print(e.func(\"MCMIV\"))\n",
    "print(e.func(\"IX\"))"
   ]
  },
  {
   "cell_type": "markdown",
   "metadata": {},
   "source": [
    "Q3. Write the Python class to find the validity of the string of the\n",
    "parentheses, '(', ')', '{', '}', '[' and '] and the brackets must be closed\n",
    "in the correct order, example - \"()\" and \"()[]{}\" are valid but \"[)\",\n",
    "\"({[)]\" and \"{{{\" are invalid.\n"
   ]
  },
  {
   "cell_type": "code",
   "execution_count": 3,
   "metadata": {},
   "outputs": [
    {
     "data": {
      "text/plain": [
       "False"
      ]
     },
     "execution_count": 3,
     "metadata": {},
     "output_type": "execute_result"
    }
   ],
   "source": [
    "\n",
    "def func(arg):\n",
    "    \n",
    "    s = []\n",
    "    for i in arg:\n",
    "        if len(s) == 0 and i in [\")\", \"}\", \"]\"]:\n",
    "            return False\n",
    "        elif len(s) == 0 or len(s) != 0 and i in [\"(\", \"{\", \"[\"]:\n",
    "            s.append(i)\n",
    "        elif len(s) > 0 and i in [\")\", \"}\", \"]\"]:\n",
    "            if (s[-1] == \"(\" and i == \")\") or (s[-1] == \"{\" and i == \"}\") \\\n",
    "            or (s[-1] == \"[\" and i == \"]\"):\n",
    "                s.pop()\n",
    "            else:\n",
    "                return False\n",
    "\n",
    "    if len(s) == 0:       \n",
    "        return True\n",
    "    else:\n",
    "        return False\n",
    "    \n",
    "            \n",
    "func(\"(((())))[[(]]\")        "
   ]
  },
  {
   "cell_type": "markdown",
   "metadata": {},
   "source": [
    "Q4. Write the Python class to get all possible unique subsets from a set\n",
    "of distinct integers?\n",
    "\n",
    "    Input - [4, 5, 6]\n",
    "    Output - [[], [6], [5], [5, 6], [4], [4, 6], [4, 5], [4, 5, 6]]"
   ]
  },
  {
   "cell_type": "code",
   "execution_count": 4,
   "metadata": {},
   "outputs": [
    {
     "data": {
      "text/plain": [
       "[[], [4], [5], [4, 5], [6], [4, 6], [5, 6], [4, 5, 6]]"
      ]
     },
     "execution_count": 4,
     "metadata": {},
     "output_type": "execute_result"
    }
   ],
   "source": [
    "def func(s):\n",
    "    x = len(s)\n",
    "    list1 = []\n",
    "    for i in range(1 << x):\n",
    "        \n",
    "        list1.append([s[j] for j in range(x) if (i & (1 << j))])\n",
    "        \n",
    "    return list1\n",
    "\n",
    "func([4,5,6])"
   ]
  },
  {
   "cell_type": "markdown",
   "metadata": {},
   "source": [
    "Q5. Write the Python class to find a pair of elements (indices of the two\n",
    "numbers) from a given array whose sum equals the specific target\n",
    "number?\n",
    "\n",
    "    Input: numbers- [10,20,10,40,50,60,70], target=50\n",
    "    Output- 3, 4"
   ]
  },
  {
   "cell_type": "code",
   "execution_count": 5,
   "metadata": {},
   "outputs": [
    {
     "data": {
      "text/plain": [
       "(4, 3)"
      ]
     },
     "execution_count": 5,
     "metadata": {},
     "output_type": "execute_result"
    }
   ],
   "source": [
    "def func(arg, target):\n",
    "    \n",
    "    dict1 = {}\n",
    "    left = 0\n",
    "    for i in range(len(arg)):\n",
    "        if target - arg[i] in dict1:\n",
    "            return i+1, dict1[target - arg[i]] + 1\n",
    "        else:\n",
    "            dict1[arg[i]] = i\n",
    "        \n",
    "        \n",
    "func([10,20,10,40,50,60,70], 50)"
   ]
  },
  {
   "cell_type": "markdown",
   "metadata": {},
   "source": [
    "Q6. Write the Python class to find the three elements that sum to zero\n",
    "from the set of n real numbers?\n",
    "\n",
    "    Input array- [-25, -10, -7, -3, 2, 4, 8, 10]\n",
    "    Output - [[-10, 2, 8], [-7, -3, 10]]\n"
   ]
  },
  {
   "cell_type": "code",
   "execution_count": 6,
   "metadata": {},
   "outputs": [
    {
     "data": {
      "text/plain": [
       "[[-10, 8, 2], [-7, 10, -3]]"
      ]
     },
     "execution_count": 6,
     "metadata": {},
     "output_type": "execute_result"
    }
   ],
   "source": [
    "class Example(object):\n",
    "\n",
    "    def func(self,arg):\n",
    "        \n",
    "        list1 = []\n",
    "\n",
    "        for i in range(len(arg)-2):\n",
    "\n",
    "            left = i + 1\n",
    "            right = len(arg) - 1\n",
    "\n",
    "            while left < right:\n",
    "                if arg[i] + arg[right] + arg[left] == 0:\n",
    "                    list1.append([arg[i],arg[right],arg[left]])\n",
    "                    left += 1\n",
    "                    right -= 1\n",
    "                elif arg[i] + arg[right] + arg[left] < 0:\n",
    "                    left += 1\n",
    "                elif arg[i] + arg[right] + arg[left] >0:\n",
    "                    right -= 1\n",
    "                else:\n",
    "                    print(\"No Triplet Present\")\n",
    "        return list1       \n",
    "                \n",
    "                \n",
    "\n",
    "e = Example()\n",
    "e.func([-25, -10, -7, -3, 2, 4, 8, 10])\n",
    "\n",
    "    \n",
    "    "
   ]
  },
  {
   "cell_type": "markdown",
   "metadata": {},
   "source": [
    "Q7. Write the Python class to implement pow(x, n)?"
   ]
  },
  {
   "cell_type": "code",
   "execution_count": 7,
   "metadata": {},
   "outputs": [
    {
     "data": {
      "text/plain": [
       "1"
      ]
     },
     "execution_count": 7,
     "metadata": {},
     "output_type": "execute_result"
    }
   ],
   "source": [
    "class Example(object):\n",
    "\n",
    "    def func(self, x, n):\n",
    "\n",
    "        if n == 0:\n",
    "            return 1\n",
    "        res = 1\n",
    "        for i in range(n):\n",
    "            res = res * x\n",
    "            print(res)\n",
    "        return x\n",
    "\n",
    "\n",
    "e = Example()\n",
    "e.func(2,0)"
   ]
  },
  {
   "cell_type": "markdown",
   "metadata": {},
   "source": [
    "Q8. Write the Python class which has two methods get_String and\n",
    "print_String. get_String accept the string from the user and \n",
    "print_String print the string in upper case."
   ]
  },
  {
   "cell_type": "code",
   "execution_count": 8,
   "metadata": {},
   "outputs": [
    {
     "ename": "StdinNotImplementedError",
     "evalue": "raw_input was called, but this frontend does not support input requests.",
     "output_type": "error",
     "traceback": [
      "\u001b[0;31m---------------------------------------------------------------------------\u001b[0m",
      "\u001b[0;31mStdinNotImplementedError\u001b[0m                  Traceback (most recent call last)",
      "\u001b[0;32m<ipython-input-8-eafd7f1ba89f>\u001b[0m in \u001b[0;36m<module>\u001b[0;34m\u001b[0m\n\u001b[1;32m     13\u001b[0m \u001b[0;34m\u001b[0m\u001b[0m\n\u001b[1;32m     14\u001b[0m \u001b[0me\u001b[0m \u001b[0;34m=\u001b[0m \u001b[0mexample\u001b[0m\u001b[0;34m(\u001b[0m\u001b[0;34m\"hello\"\u001b[0m\u001b[0;34m)\u001b[0m\u001b[0;34m\u001b[0m\u001b[0m\n\u001b[0;32m---> 15\u001b[0;31m \u001b[0me\u001b[0m\u001b[0;34m.\u001b[0m\u001b[0mget_String\u001b[0m\u001b[0;34m(\u001b[0m\u001b[0;34m)\u001b[0m\u001b[0;34m\u001b[0m\u001b[0m\n\u001b[0m\u001b[1;32m     16\u001b[0m \u001b[0me\u001b[0m\u001b[0;34m.\u001b[0m\u001b[0mprint_String\u001b[0m\u001b[0;34m(\u001b[0m\u001b[0;34m)\u001b[0m\u001b[0;34m\u001b[0m\u001b[0m\n",
      "\u001b[0;32m<ipython-input-8-eafd7f1ba89f>\u001b[0m in \u001b[0;36mget_String\u001b[0;34m(self)\u001b[0m\n\u001b[1;32m      5\u001b[0m \u001b[0;34m\u001b[0m\u001b[0m\n\u001b[1;32m      6\u001b[0m     \u001b[0;32mdef\u001b[0m \u001b[0mget_String\u001b[0m\u001b[0;34m(\u001b[0m\u001b[0mself\u001b[0m\u001b[0;34m)\u001b[0m\u001b[0;34m:\u001b[0m\u001b[0;34m\u001b[0m\u001b[0m\n\u001b[0;32m----> 7\u001b[0;31m         \u001b[0mself\u001b[0m\u001b[0;34m.\u001b[0m\u001b[0minput\u001b[0m \u001b[0;34m=\u001b[0m \u001b[0minput\u001b[0m\u001b[0;34m(\u001b[0m\u001b[0;34m\"please enter the string: \"\u001b[0m\u001b[0;34m)\u001b[0m\u001b[0;34m\u001b[0m\u001b[0m\n\u001b[0m\u001b[1;32m      8\u001b[0m         \u001b[0;32mreturn\u001b[0m \u001b[0mself\u001b[0m\u001b[0;34m.\u001b[0m\u001b[0minput\u001b[0m\u001b[0;34m\u001b[0m\u001b[0m\n\u001b[1;32m      9\u001b[0m \u001b[0;34m\u001b[0m\u001b[0m\n",
      "\u001b[0;32m/opt/conda/lib/python3.6/site-packages/ipykernel/kernelbase.py\u001b[0m in \u001b[0;36mraw_input\u001b[0;34m(self, prompt)\u001b[0m\n\u001b[1;32m    853\u001b[0m         \u001b[0;32mif\u001b[0m \u001b[0;32mnot\u001b[0m \u001b[0mself\u001b[0m\u001b[0;34m.\u001b[0m\u001b[0m_allow_stdin\u001b[0m\u001b[0;34m:\u001b[0m\u001b[0;34m\u001b[0m\u001b[0m\n\u001b[1;32m    854\u001b[0m             raise StdinNotImplementedError(\n\u001b[0;32m--> 855\u001b[0;31m                 \u001b[0;34m\"raw_input was called, but this frontend does not support input requests.\"\u001b[0m\u001b[0;34m\u001b[0m\u001b[0m\n\u001b[0m\u001b[1;32m    856\u001b[0m             )\n\u001b[1;32m    857\u001b[0m         return self._input_request(str(prompt),\n",
      "\u001b[0;31mStdinNotImplementedError\u001b[0m: raw_input was called, but this frontend does not support input requests."
     ]
    }
   ],
   "source": [
    "class example(object):\n",
    "    \n",
    "    def __init__(self, input):\n",
    "        self.input = input\n",
    "        \n",
    "    def get_String(self):\n",
    "        self.input = input(\"please enter the string: \")\n",
    "        return self.input\n",
    "    \n",
    "    def print_String(self):\n",
    "        return self.input.upper()\n",
    "    \n",
    "    \n",
    "e = example(\"hello\")\n",
    "e.get_String()\n",
    "e.print_String()"
   ]
  },
  {
   "cell_type": "markdown",
   "metadata": {},
   "source": [
    "Q9. Write the Python class named Rectangle constructed by a length\n",
    "and width and the method which will compute the area of the\n",
    "rectangle?"
   ]
  },
  {
   "cell_type": "code",
   "execution_count": 9,
   "metadata": {},
   "outputs": [
    {
     "data": {
      "text/plain": [
       "120"
      ]
     },
     "execution_count": 9,
     "metadata": {},
     "output_type": "execute_result"
    }
   ],
   "source": [
    "class Rectangle(object):\n",
    "    \n",
    "    def __init__(self, height, width):\n",
    "        \n",
    "        self.height = height\n",
    "        self.width = width\n",
    "     \n",
    "    def area(self):\n",
    "        return self.height * self.width\n",
    "    \n",
    "    \n",
    "e = Rectangle(10,12)\n",
    "e.area()"
   ]
  },
  {
   "cell_type": "markdown",
   "metadata": {},
   "source": [
    "Q10. Write the Python class named Circle constructed by the radius\n",
    "and two methods which will compute the area and perimeter of\n",
    "the circle?"
   ]
  },
  {
   "cell_type": "code",
   "execution_count": 10,
   "metadata": {},
   "outputs": [
    {
     "name": "stdout",
     "output_type": "stream",
     "text": [
      "62.83185307179586\n",
      "314.1592653589793\n"
     ]
    }
   ],
   "source": [
    "import math\n",
    "\n",
    "class Circle(object):\n",
    "    \n",
    "    def __init__(self, radius):\n",
    "        self.radius = radius\n",
    "        \n",
    "    def perimeter(self):\n",
    "        \n",
    "        return 2 * math.pi * self.radius\n",
    "    \n",
    "    def area(self):\n",
    "        return math.pi * (self.radius ** 2)\n",
    "    \n",
    "    \n",
    "c = Circle(10)\n",
    "print(c.perimeter())\n",
    "print(c.area())"
   ]
  },
  {
   "cell_type": "markdown",
   "metadata": {},
   "source": [
    "Q11. Write the Python program to get the class name of an instance in\n",
    "Python?"
   ]
  },
  {
   "cell_type": "code",
   "execution_count": 11,
   "metadata": {},
   "outputs": [
    {
     "name": "stdout",
     "output_type": "stream",
     "text": [
      "Example\n"
     ]
    }
   ],
   "source": [
    "class Example(object):\n",
    "    \n",
    "    def __init__(self):\n",
    "        return None\n",
    "    \n",
    "    def print(self):\n",
    "        \n",
    "        return self.__class__.__name__\n",
    "    \n",
    "e = Example()\n",
    "print(e.print())"
   ]
  },
  {
   "cell_type": "markdown",
   "metadata": {},
   "source": [
    "Q12. Write the Python program to count the number of students of\n",
    "individual class?\n",
    "\n",
    "    Sample dataclasses = (\n",
    "    ('V', 1),\n",
    "    ('VI', 1),\n",
    "    ('V', 2),\n",
    "    ('VI', 2),\n",
    "    ('VI', 3),\n",
    "    ('VII', 1),\n",
    "    )\n",
    "    Expected OutputCounter({'VI': 3, 'V': 2, 'VII': 1})"
   ]
  },
  {
   "cell_type": "code",
   "execution_count": 12,
   "metadata": {},
   "outputs": [
    {
     "ename": "NameError",
     "evalue": "name 'dataclasses' is not defined",
     "output_type": "error",
     "traceback": [
      "\u001b[0;31m---------------------------------------------------------------------------\u001b[0m",
      "\u001b[0;31mNameError\u001b[0m                                 Traceback (most recent call last)",
      "\u001b[0;32m<ipython-input-12-4b3096a692fa>\u001b[0m in \u001b[0;36m<module>\u001b[0;34m\u001b[0m\n\u001b[1;32m     22\u001b[0m \u001b[0;34m\u001b[0m\u001b[0m\n\u001b[1;32m     23\u001b[0m \u001b[0me\u001b[0m \u001b[0;34m=\u001b[0m \u001b[0mExample\u001b[0m\u001b[0;34m(\u001b[0m\u001b[0;34m)\u001b[0m\u001b[0;34m\u001b[0m\u001b[0m\n\u001b[0;32m---> 24\u001b[0;31m \u001b[0me\u001b[0m\u001b[0;34m.\u001b[0m\u001b[0mfunc\u001b[0m\u001b[0;34m(\u001b[0m\u001b[0;34m)\u001b[0m\u001b[0;34m\u001b[0m\u001b[0m\n\u001b[0m",
      "\u001b[0;32m<ipython-input-12-4b3096a692fa>\u001b[0m in \u001b[0;36mfunc\u001b[0;34m(self)\u001b[0m\n\u001b[1;32m     12\u001b[0m \u001b[0;34m\u001b[0m\u001b[0m\n\u001b[1;32m     13\u001b[0m         \u001b[0mdict1\u001b[0m \u001b[0;34m=\u001b[0m \u001b[0;34m{\u001b[0m\u001b[0;34m}\u001b[0m\u001b[0;34m\u001b[0m\u001b[0m\n\u001b[0;32m---> 14\u001b[0;31m         \u001b[0;32mfor\u001b[0m \u001b[0mk\u001b[0m\u001b[0;34m,\u001b[0m\u001b[0mv\u001b[0m \u001b[0;32min\u001b[0m \u001b[0mdataclasses\u001b[0m\u001b[0;34m:\u001b[0m\u001b[0;34m\u001b[0m\u001b[0m\n\u001b[0m\u001b[1;32m     15\u001b[0m             \u001b[0;32mif\u001b[0m \u001b[0mk\u001b[0m \u001b[0;32min\u001b[0m \u001b[0mdict1\u001b[0m\u001b[0;34m:\u001b[0m\u001b[0;34m\u001b[0m\u001b[0m\n\u001b[1;32m     16\u001b[0m                 \u001b[0mdict1\u001b[0m\u001b[0;34m[\u001b[0m\u001b[0mk\u001b[0m\u001b[0;34m]\u001b[0m \u001b[0;34m+=\u001b[0m \u001b[0;36m1\u001b[0m\u001b[0;34m\u001b[0m\u001b[0m\n",
      "\u001b[0;31mNameError\u001b[0m: name 'dataclasses' is not defined"
     ]
    }
   ],
   "source": [
    "class Example(object):\n",
    "    dataclasses = (\n",
    "    ('V', 1),\n",
    "    ('VI', 1),\n",
    "    ('V', 2),\n",
    "    ('VI', 2),\n",
    "    ('VI', 3),\n",
    "    ('VII', 1),\n",
    "    )\n",
    "    \n",
    "    def func(self):\n",
    "\n",
    "        dict1 = {}\n",
    "        for k,v in dataclasses:\n",
    "            if k in dict1:\n",
    "                dict1[k] += 1\n",
    "            else:\n",
    "                dict1[k] = 1\n",
    "\n",
    "        return dict1\n",
    "    \n",
    "    \n",
    "e = Example()\n",
    "e.func()"
   ]
  },
  {
   "cell_type": "markdown",
   "metadata": {},
   "source": [
    "## Great Job!"
   ]
  }
 ],
 "metadata": {
  "kernelspec": {
   "display_name": "Python 3",
   "language": "python",
   "name": "python3"
  },
  "language_info": {
   "codemirror_mode": {
    "name": "ipython",
    "version": 3
   },
   "file_extension": ".py",
   "mimetype": "text/x-python",
   "name": "python",
   "nbconvert_exporter": "python",
   "pygments_lexer": "ipython3",
   "version": "3.6.6"
  }
 },
 "nbformat": 4,
 "nbformat_minor": 1
}
